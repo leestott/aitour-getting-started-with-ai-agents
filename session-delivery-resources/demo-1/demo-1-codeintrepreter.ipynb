{
 "cells": [
  {
   "cell_type": "markdown",
   "metadata": {},
   "source": [
    "# Code Interpreter with Azure AI Agent Service "
   ]
  },
  {
   "cell_type": "markdown",
   "metadata": {},
   "source": [
    "## Import Packages "
   ]
  },
  {
   "cell_type": "code",
   "execution_count": null,
   "metadata": {},
   "outputs": [],
   "source": [
    "import os\n",
    "from azure.ai.projects import AIProjectClient\n",
    "from azure.ai.projects.models import CodeInterpreterTool\n",
    "from azure.identity import DefaultAzureCredential\n",
    "from typing import Any\n",
    "from pathlib import Path\n",
    "from pprint import pformat\n",
    "from datetime import datetime\n",
    "\n",
    "from tabulate import tabulate"
   ]
  },
  {
   "cell_type": "markdown",
   "metadata": {},
   "source": [
    "## Connecct to AI Foundry Project "
   ]
  },
  {
   "cell_type": "code",
   "execution_count": 17,
   "metadata": {},
   "outputs": [],
   "source": [
    "project_client = AIProjectClient.from_connection_string(\n",
    "    credential=DefaultAzureCredential(), conn_str=os.environ[\"PROJECT_CONNECTION_STRING\"]\n",
    ")"
   ]
  },
  {
   "cell_type": "code",
   "execution_count": 18,
   "metadata": {},
   "outputs": [
    {
     "name": "stdout",
     "output_type": "stream",
     "text": [
      "Created agent, agent ID: asst_F7iWSLR09ZnwcOtRswYAdre1\n",
      "Created thread, thread ID: thread_ZHOdw0NZ0ZPNdhF953dFOGff\n",
      "Created message, message ID: msg_uK2UzRxZc0T00Pyv45uazJiu\n",
      "Run finished with status: RunStatus.COMPLETED\n",
      "\n",
      "=== Thread Messages ===\n",
      "{ '_data': { 'data': [ {'id': 'msg_HymGxkLcpQANdr6iPOb9ZiXV', 'object': 'thread.message', 'created_at': 1740151044, 'assistant_id': 'asst_F7iWSLR09ZnwcOtRswYAdre1', 'thread_id': 'thread_ZHOdw0NZ0ZPNdhF953dFOGff', 'run_id': 'run_mXZFTQ0p2XJRjxyPWQty9OKX', 'role': 'assistant', 'content': [{'type': 'image_file', 'image_file': {'file_id': 'assistant-YN722cEvt4QG9gHsVEbN4a'}}, {'type': 'text', 'text': {'value': 'I have created the bar chart for the operating profits of the companies. You can download it using the link below:\\n\\n[Download the Operating Profit Chart](sandbox:/mnt/data/operating_profit_chart.png)', 'annotations': [{'type': 'file_path', 'text': 'sandbox:/mnt/data/operating_profit_chart.png', 'start_index': 154, 'end_index': 198, 'file_path': {'file_id': 'assistant-UAznGBcVnCPr8G1tk7XsUW'}}]}}], 'attachments': [{'file_id': 'assistant-UAznGBcVnCPr8G1tk7XsUW', 'tools': [{'type': 'code_interpreter'}]}], 'metadata': {}},\n",
      "                       {'id': 'msg_uK2UzRxZc0T00Pyv45uazJiu', 'object': 'thread.message', 'created_at': 1740151031, 'assistant_id': None, 'thread_id': 'thread_ZHOdw0NZ0ZPNdhF953dFOGff', 'run_id': None, 'role': 'user', 'content': [{'type': 'text', 'text': {'value': 'Could you please create a bar chart for the operating profit using the following data and provide the file to me? Company A: $1.2 million, Company B: $2.5 million, Company C: $3.0 million, Company D: $1.8 million', 'annotations': []}}], 'attachments': [], 'metadata': {}}],\n",
      "             'first_id': 'msg_HymGxkLcpQANdr6iPOb9ZiXV',\n",
      "             'has_more': False,\n",
      "             'last_id': 'msg_uK2UzRxZc0T00Pyv45uazJiu',\n",
      "             'object': 'list'}}\n",
      "Image File ID: assistant-YN722cEvt4QG9gHsVEbN4a\n",
      "Saved image file to: /workspaces/aitour-getting-started-with-ai-agents/session-delivery-resources/demo-1/assistant-YN722cEvt4QG9gHsVEbN4a_image_file.png\n",
      "File Paths:\n",
      "Type: file_path\n",
      "Text: sandbox:/mnt/data/operating_profit_chart.png\n",
      "File ID: assistant-UAznGBcVnCPr8G1tk7XsUW\n",
      "Start Index: 154\n",
      "End Index: 198\n",
      "Deleted agent\n"
     ]
    }
   ],
   "source": [
    "with project_client:\n",
    "    # Create an instance of the CodeInterpreterTool\n",
    "    code_interpreter = CodeInterpreterTool()\n",
    "\n",
    "    # The CodeInterpreterTool needs to be included in creation of the agent\n",
    "    agent = project_client.agents.create_agent(\n",
    "        model=\"gpt-4o-mini\",\n",
    "        name=\"my-agent\",\n",
    "        instructions=\"You are helpful agent\",\n",
    "        tools=code_interpreter.definitions,\n",
    "        tool_resources=code_interpreter.resources,\n",
    "    )\n",
    "    print(f\"Created agent, agent ID: {agent.id}\")\n",
    "\n",
    "    # Create a thread\n",
    "    thread = project_client.agents.create_thread()\n",
    "    print(f\"Created thread, thread ID: {thread.id}\")\n",
    "\n",
    "    # Create a message\n",
    "    message = project_client.agents.create_message(\n",
    "        thread_id=thread.id,\n",
    "        role=\"user\",\n",
    "        content=\"Could you please create a bar chart for the operating profit using the following data and provide the file to me? Company A: $1.2 million, Company B: $2.5 million, Company C: $3.0 million, Company D: $1.8 million\",\n",
    "    )\n",
    "    print(f\"Created message, message ID: {message.id}\")\n",
    "\n",
    "    # Run the agent\n",
    "    run = project_client.agents.create_and_process_run(\n",
    "        thread_id=thread.id, assistant_id=agent.id)\n",
    "    print(f\"Run finished with status: {run.status}\")\n",
    "\n",
    "    if run.status == \"failed\":\n",
    "        # Check if you got \"Rate limit is exceeded.\", then you want to get more quota\n",
    "        print(f\"Run failed: {run.last_error}\")\n",
    "\n",
    "    # Get messages from the thread\n",
    "    messages = project_client.agents.list_messages(thread_id=thread.id)\n",
    "    print(\"\\n=== Thread Messages ===\")\n",
    "    print(pformat(messages.__dict__, indent=2, width=80))\n",
    "\n",
    "    # Get the last message from the sender\n",
    "    # last_msg = messages.get_last_text_message_by_sender(\"assistant\")\n",
    "    # if last_msg:\n",
    "    #     print(f\"Last Message: {last_msg.text.value}\")\n",
    "\n",
    "\n",
    "\n",
    "\n",
    "    # Generate an image file for the bar chart\n",
    "    for image_content in messages.image_contents:\n",
    "        print(f\"Image File ID: {image_content.image_file.file_id}\")\n",
    "        file_name = f\"{image_content.image_file.file_id}_image_file.png\"\n",
    "        project_client.agents.save_file(\n",
    "            file_id=image_content.image_file.file_id, file_name=file_name)\n",
    "        print(f\"Saved image file to: {Path.cwd() / file_name}\")\n",
    "\n",
    "    # Print the file path(s) from the messages\n",
    "    for file_path_annotation in messages.file_path_annotations:\n",
    "        print(f\"File Paths:\")\n",
    "        print(f\"Type: {file_path_annotation.type}\")\n",
    "        print(f\"Text: {file_path_annotation.text}\")\n",
    "        print(f\"File ID: {file_path_annotation.file_path.file_id}\")\n",
    "        print(f\"Start Index: {file_path_annotation.start_index}\")\n",
    "        print(f\"End Index: {file_path_annotation.end_index}\")\n",
    "        project_client.agents.save_file(\n",
    "            file_id=file_path_annotation.file_path.file_id, file_name=Path(file_path_annotation.text).name)\n",
    "\n",
    "    # Delete the agent once done\n",
    "    project_client.agents.delete_agent(agent.id)\n",
    "    print(\"Deleted agent\")"
   ]
  }
 ],
 "metadata": {
  "kernelspec": {
   "display_name": ".venv",
   "language": "python",
   "name": "python3"
  },
  "language_info": {
   "codemirror_mode": {
    "name": "ipython",
    "version": 3
   },
   "file_extension": ".py",
   "mimetype": "text/x-python",
   "name": "python",
   "nbconvert_exporter": "python",
   "pygments_lexer": "ipython3",
   "version": "3.11.11"
  }
 },
 "nbformat": 4,
 "nbformat_minor": 2
}
