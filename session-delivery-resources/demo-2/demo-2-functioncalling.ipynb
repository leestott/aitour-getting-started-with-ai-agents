{
 "cells": [
  {
   "cell_type": "markdown",
   "metadata": {},
   "source": [
    "# Function Calling with the Azure AI Agent Service "
   ]
  },
  {
   "cell_type": "code",
   "execution_count": 3,
   "metadata": {},
   "outputs": [],
   "source": [
    "import os\n",
    "from azure.ai.projects import AIProjectClient\n",
    "from azure.identity import DefaultAzureCredential\n",
    "from azure.ai.projects.models import FunctionTool, ToolSet, CodeInterpreterTool\n",
    "from user_functions import user_functions\n",
    "from pprint import pformat\n",
    "\n",
    "\n",
    "\n",
    "project_client = AIProjectClient.from_connection_string(\n",
    "    credential=DefaultAzureCredential(),\n",
    "    conn_str=os.environ[\"PROJECT_CONNECTION_STRING\"],\n",
    ")"
   ]
  },
  {
   "cell_type": "code",
   "execution_count": 4,
   "metadata": {},
   "outputs": [
    {
     "name": "stdout",
     "output_type": "stream",
     "text": [
      "Created agent, ID: asst_VXEukXmT3n6LF0t1bhc2SV9d\n",
      "Created thread, ID: thread_ZuQgoIwa16PlKGuSA2ebF1Gu\n",
      "Created message, ID: msg_iW5omVb3C2A4djOMMUPnRHwu\n",
      "Sending email to example@example.com...\n",
      "Subject: Current Datetime and Weather in New York\n",
      "Body:\n",
      "The current datetime is: 2025-02-21 15:18:45\n",
      "\n",
      "The current weather in New York is: Sunny, 25°C\n",
      "Run finished with status: RunStatus.COMPLETED\n",
      "Deleted agent\n",
      "\n",
      "=== Thread Messages ===\n",
      "{ '_data': { 'data': [ {'id': 'msg_3Ww3eQWkC2IvfFhseQD4X8rs', 'object': 'thread.message', 'created_at': 1740151128, 'assistant_id': 'asst_VXEukXmT3n6LF0t1bhc2SV9d', 'thread_id': 'thread_ZuQgoIwa16PlKGuSA2ebF1Gu', 'run_id': 'run_nNf3xFLdFKZtVXe60H8RBINL', 'role': 'assistant', 'content': [{'type': 'text', 'text': {'value': \"The email with the current datetime and weather information in New York has been successfully sent. \\n\\nHere's what was included in the email:\\n- **Datetime:** 2025-02-21 15:18:45\\n- **Weather:** Sunny, 25°C \\n\\nIf you need anything else, feel free to ask!\", 'annotations': []}}], 'attachments': [], 'metadata': {}},\n",
      "                       {'id': 'msg_iW5omVb3C2A4djOMMUPnRHwu', 'object': 'thread.message', 'created_at': 1740151121, 'assistant_id': None, 'thread_id': 'thread_ZuQgoIwa16PlKGuSA2ebF1Gu', 'run_id': None, 'role': 'user', 'content': [{'type': 'text', 'text': {'value': 'Hello, send an email with the datetime and weather information in New York?', 'annotations': []}}], 'attachments': [], 'metadata': {}}],\n",
      "             'first_id': 'msg_3Ww3eQWkC2IvfFhseQD4X8rs',\n",
      "             'has_more': False,\n",
      "             'last_id': 'msg_iW5omVb3C2A4djOMMUPnRHwu',\n",
      "             'object': 'list'}}\n"
     ]
    }
   ],
   "source": [
    "with project_client:\n",
    "    # Initialize agent toolset with user functions and code interpreter\n",
    "    # [START create_agent_toolset]\n",
    "    functions = FunctionTool(user_functions)\n",
    "    code_interpreter = CodeInterpreterTool()\n",
    "\n",
    "    toolset = ToolSet()\n",
    "    toolset.add(functions)\n",
    "    toolset.add(code_interpreter)\n",
    "\n",
    "    agent = project_client.agents.create_agent(\n",
    "        model=\"gpt-4o-mini\",\n",
    "        name=\"my-assistant\",\n",
    "        instructions=\"You are a helpful assistant\",\n",
    "        toolset=toolset,\n",
    "    )\n",
    "    # [END create_agent_toolset]\n",
    "    print(f\"Created agent, ID: {agent.id}\")\n",
    "\n",
    "    # Create thread for communication\n",
    "    thread = project_client.agents.create_thread()\n",
    "    print(f\"Created thread, ID: {thread.id}\")\n",
    "\n",
    "    # Create message to thread\n",
    "    message = project_client.agents.create_message(\n",
    "        thread_id=thread.id,\n",
    "        role=\"user\",\n",
    "        content=\"Hello, send an email with the datetime and weather information in New York?\",\n",
    "    )\n",
    "    print(f\"Created message, ID: {message.id}\")\n",
    "\n",
    "    # Create and process agent run in thread with tools\n",
    "    # [START create_and_process_run]\n",
    "    run = project_client.agents.create_and_process_run(\n",
    "        thread_id=thread.id, assistant_id=agent.id)\n",
    "    # [END create_and_process_run]\n",
    "    print(f\"Run finished with status: {run.status}\")\n",
    "\n",
    "    if run.status == \"failed\":\n",
    "        print(f\"Run failed: {run.last_error}\")\n",
    "\n",
    "    # Delete the assistant when done\n",
    "    project_client.agents.delete_agent(agent.id)\n",
    "    print(\"Deleted agent\")\n",
    "\n",
    "    # Fetch and log all messages\n",
    "    messages = project_client.agents.list_messages(thread_id=thread.id)\n",
    "    print(\"\\n=== Thread Messages ===\")\n",
    "    print(pformat(messages.__dict__, indent=2, width=80))"
   ]
  },
  {
   "cell_type": "code",
   "execution_count": null,
   "metadata": {},
   "outputs": [],
   "source": []
  }
 ],
 "metadata": {
  "kernelspec": {
   "display_name": ".venv",
   "language": "python",
   "name": "python3"
  },
  "language_info": {
   "codemirror_mode": {
    "name": "ipython",
    "version": 3
   },
   "file_extension": ".py",
   "mimetype": "text/x-python",
   "name": "python",
   "nbconvert_exporter": "python",
   "pygments_lexer": "ipython3",
   "version": "3.11.11"
  }
 },
 "nbformat": 4,
 "nbformat_minor": 2
}
